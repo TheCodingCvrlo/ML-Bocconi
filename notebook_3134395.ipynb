{
 "cells": [
  {
   "cell_type": "markdown",
   "id": "c6f2baf2",
   "metadata": {},
   "source": [
    "# Individual Assignment - 30412"
   ]
  },
  {
   "cell_type": "markdown",
   "id": "a1c52be2",
   "metadata": {},
   "source": [
    "Carlo Antonio Patti - 3134395"
   ]
  },
  {
   "cell_type": "markdown",
   "id": "31bc1dea",
   "metadata": {},
   "source": [
    "<table align=\"left\">\n",
    "  <td>\n",
    "    <a href=\"https://colab.research.google.com/drive/1ohG5S4XwqS0w5IdjkkTDh4Zc4BQ35xbH#scrollTo=31bc1dea\" target=\"_parent\"><img src=\"https://colab.research.google.com/assets/colab-badge.svg\" alt=\"Open In Colab\"/></a>\n",
    "  </td>"
   ]
  },
  {
   "cell_type": "markdown",
   "id": "bf92aa7b",
   "metadata": {},
   "source": [
    "## Task description"
   ]
  },
  {
   "cell_type": "markdown",
   "id": "a22c1bf7",
   "metadata": {},
   "source": [
    "This dataset is composed of **1100 samples** with **30 features** each. The first column\n",
    "is the sample id. The second column in the dataset represents the label. There\n",
    "are 3 possible values for the labels. The remaining columns are numeric\n",
    "features.\n",
    "\n",
    "Notice that the classes are **unbalanced**: some labels are more frequent than\n",
    "others. You need to decide whether to take this into account, and if so how.\n",
    "\n",
    "Your task is the following: you should compare the performance of a Support-\n",
    "Vector Machine (implemented by `sklearn.svm.LinearSVC`) with that of Logistic\n",
    "Regression (implemented by `sklearn.linear_model.LogisticRegression`). Try to\n",
    "**optimize both algorithms' parameters** and determine which one is best for this\n",
    "dataset. At the end of the analysis, you should have chosen an algorithm and its\n",
    "optimal set of parameters: **write this choice explicitly** in the conclusions of\n",
    "your notebook.\n",
    "\n",
    "Your notebook should detail the procedure you have used to choose the optimal\n",
    "parameters (graphs are a good idea when possible/sensible).\n",
    "\n",
    "The notebook will be evaluated not only based on the final results, but also on\n",
    "the procedure employed, which should balance practical considerations (one may\n",
    "not be able to exhaustively explore all possible combinations of the parameters)\n",
    "with the desire for achieving the best possible performance in the least amount\n",
    "of time.\n",
    "\n",
    "Bonus points may be assigned for particularly clean/nifty code and/or well-\n",
    "presented results.\n",
    "\n",
    "You are also free to attempt other strategies beyond the one in the assignment\n",
    "(which however is mandatory!).\n"
   ]
  },
  {
   "cell_type": "markdown",
   "id": "dc3cd0d5",
   "metadata": {},
   "source": [
    "## Importing required packages"
   ]
  },
  {
   "cell_type": "markdown",
   "id": "fbb58e4a",
   "metadata": {},
   "source": [
    "Let's start by importing some very common libraries which might be useful later"
   ]
  },
  {
   "cell_type": "code",
   "execution_count": 1,
   "id": "3c883de8",
   "metadata": {},
   "outputs": [],
   "source": [
    "import pandas as pd\n",
    "import numpy as np\n",
    "import os\n",
    "import matplotlib.pyplot as plt\n",
    "import seaborn as sns"
   ]
  },
  {
   "cell_type": "markdown",
   "id": "fc98eeab",
   "metadata": {},
   "source": [
    "## Loading the data"
   ]
  },
  {
   "cell_type": "markdown",
   "id": "aaa2cbbe",
   "metadata": {},
   "source": [
    "I uploaded the data on my github to make import easier from colab or any other environment, without having to mount any drive."
   ]
  },
  {
   "cell_type": "code",
   "execution_count": 2,
   "id": "742bdcbd",
   "metadata": {},
   "outputs": [],
   "source": [
    "import requests\n",
    "import io\n",
    "\n",
    "url = \"https://raw.githubusercontent.com/TheCodingCvrlo/assignment_30412/main/mldata.csv\"\n",
    "\n",
    "download = requests.get(url).content\n",
    "df = pd.read_csv(io.StringIO(download.decode('utf-8')))"
   ]
  },
  {
   "cell_type": "code",
   "execution_count": 3,
   "id": "17d44d9a",
   "metadata": {},
   "outputs": [],
   "source": [
    "# use this if running locally, with this notebook and the csv file in the same folder\n",
    "\n",
    "# filepath = os.path.join(os.getcwd(), 'mldata_0013134395.csv')\n",
    "# df = pd.read_csv(filepath)"
   ]
  },
  {
   "cell_type": "markdown",
   "id": "4516e810",
   "metadata": {},
   "source": [
    "## Exploring the Dataset"
   ]
  },
  {
   "cell_type": "markdown",
   "id": "df3798e5",
   "metadata": {},
   "source": [
    "Descriptive statistics and some visualizations follow. Some cells are commented to highlight only the most important info."
   ]
  },
  {
   "cell_type": "code",
   "execution_count": 4,
   "id": "65ffc851",
   "metadata": {
    "scrolled": true
   },
   "outputs": [
    {
     "data": {
      "text/html": [
       "<div>\n",
       "<style scoped>\n",
       "    .dataframe tbody tr th:only-of-type {\n",
       "        vertical-align: middle;\n",
       "    }\n",
       "\n",
       "    .dataframe tbody tr th {\n",
       "        vertical-align: top;\n",
       "    }\n",
       "\n",
       "    .dataframe thead th {\n",
       "        text-align: right;\n",
       "    }\n",
       "</style>\n",
       "<table border=\"1\" class=\"dataframe\">\n",
       "  <thead>\n",
       "    <tr style=\"text-align: right;\">\n",
       "      <th></th>\n",
       "      <th>Unnamed: 0</th>\n",
       "      <th>label</th>\n",
       "      <th>feature_1</th>\n",
       "      <th>feature_2</th>\n",
       "      <th>feature_3</th>\n",
       "      <th>feature_4</th>\n",
       "      <th>feature_5</th>\n",
       "      <th>feature_6</th>\n",
       "      <th>feature_7</th>\n",
       "      <th>feature_8</th>\n",
       "      <th>...</th>\n",
       "      <th>feature_21</th>\n",
       "      <th>feature_22</th>\n",
       "      <th>feature_23</th>\n",
       "      <th>feature_24</th>\n",
       "      <th>feature_25</th>\n",
       "      <th>feature_26</th>\n",
       "      <th>feature_27</th>\n",
       "      <th>feature_28</th>\n",
       "      <th>feature_29</th>\n",
       "      <th>feature_30</th>\n",
       "    </tr>\n",
       "  </thead>\n",
       "  <tbody>\n",
       "    <tr>\n",
       "      <th>0</th>\n",
       "      <td>0</td>\n",
       "      <td>2</td>\n",
       "      <td>4.833531</td>\n",
       "      <td>0.542011</td>\n",
       "      <td>-0.984598</td>\n",
       "      <td>0.133743</td>\n",
       "      <td>0.001955</td>\n",
       "      <td>-1.123050</td>\n",
       "      <td>1.127543</td>\n",
       "      <td>-0.915878</td>\n",
       "      <td>...</td>\n",
       "      <td>-2.532471</td>\n",
       "      <td>1.218061</td>\n",
       "      <td>1.501915</td>\n",
       "      <td>1.462644</td>\n",
       "      <td>-0.366133</td>\n",
       "      <td>-0.666049</td>\n",
       "      <td>3.262910</td>\n",
       "      <td>1.936256</td>\n",
       "      <td>-0.968280</td>\n",
       "      <td>-1.711473</td>\n",
       "    </tr>\n",
       "    <tr>\n",
       "      <th>1</th>\n",
       "      <td>1</td>\n",
       "      <td>0</td>\n",
       "      <td>4.041437</td>\n",
       "      <td>0.043255</td>\n",
       "      <td>0.818773</td>\n",
       "      <td>1.509510</td>\n",
       "      <td>0.445574</td>\n",
       "      <td>0.714476</td>\n",
       "      <td>1.253506</td>\n",
       "      <td>0.607898</td>\n",
       "      <td>...</td>\n",
       "      <td>-1.412795</td>\n",
       "      <td>1.893384</td>\n",
       "      <td>1.760497</td>\n",
       "      <td>0.535397</td>\n",
       "      <td>0.299378</td>\n",
       "      <td>0.390798</td>\n",
       "      <td>1.286962</td>\n",
       "      <td>2.115100</td>\n",
       "      <td>1.815018</td>\n",
       "      <td>1.938802</td>\n",
       "    </tr>\n",
       "    <tr>\n",
       "      <th>2</th>\n",
       "      <td>2</td>\n",
       "      <td>1</td>\n",
       "      <td>-5.022803</td>\n",
       "      <td>0.905509</td>\n",
       "      <td>-1.177129</td>\n",
       "      <td>0.242822</td>\n",
       "      <td>-1.270033</td>\n",
       "      <td>-1.811686</td>\n",
       "      <td>-1.006391</td>\n",
       "      <td>0.531494</td>\n",
       "      <td>...</td>\n",
       "      <td>4.604576</td>\n",
       "      <td>0.727504</td>\n",
       "      <td>0.788163</td>\n",
       "      <td>0.277626</td>\n",
       "      <td>1.602586</td>\n",
       "      <td>-0.573288</td>\n",
       "      <td>0.582831</td>\n",
       "      <td>0.746376</td>\n",
       "      <td>-2.561164</td>\n",
       "      <td>1.708863</td>\n",
       "    </tr>\n",
       "    <tr>\n",
       "      <th>3</th>\n",
       "      <td>3</td>\n",
       "      <td>0</td>\n",
       "      <td>8.142643</td>\n",
       "      <td>0.188563</td>\n",
       "      <td>-0.047802</td>\n",
       "      <td>-0.315394</td>\n",
       "      <td>-1.813394</td>\n",
       "      <td>1.381458</td>\n",
       "      <td>0.677761</td>\n",
       "      <td>0.395829</td>\n",
       "      <td>...</td>\n",
       "      <td>-3.260434</td>\n",
       "      <td>3.220630</td>\n",
       "      <td>-1.293879</td>\n",
       "      <td>2.016155</td>\n",
       "      <td>-0.574672</td>\n",
       "      <td>-0.611484</td>\n",
       "      <td>5.060627</td>\n",
       "      <td>0.439937</td>\n",
       "      <td>4.916851</td>\n",
       "      <td>-1.531910</td>\n",
       "    </tr>\n",
       "    <tr>\n",
       "      <th>4</th>\n",
       "      <td>4</td>\n",
       "      <td>2</td>\n",
       "      <td>5.054923</td>\n",
       "      <td>-0.284502</td>\n",
       "      <td>-1.646744</td>\n",
       "      <td>-0.279093</td>\n",
       "      <td>0.314746</td>\n",
       "      <td>-0.205413</td>\n",
       "      <td>-0.266329</td>\n",
       "      <td>-0.465928</td>\n",
       "      <td>...</td>\n",
       "      <td>1.680388</td>\n",
       "      <td>-0.198763</td>\n",
       "      <td>0.492470</td>\n",
       "      <td>2.196284</td>\n",
       "      <td>-0.719854</td>\n",
       "      <td>-0.461862</td>\n",
       "      <td>-0.654043</td>\n",
       "      <td>3.561839</td>\n",
       "      <td>2.440038</td>\n",
       "      <td>-1.571913</td>\n",
       "    </tr>\n",
       "  </tbody>\n",
       "</table>\n",
       "<p>5 rows × 32 columns</p>\n",
       "</div>"
      ],
      "text/plain": [
       "   Unnamed: 0  label  feature_1  feature_2  feature_3  feature_4  feature_5  \\\n",
       "0           0      2   4.833531   0.542011  -0.984598   0.133743   0.001955   \n",
       "1           1      0   4.041437   0.043255   0.818773   1.509510   0.445574   \n",
       "2           2      1  -5.022803   0.905509  -1.177129   0.242822  -1.270033   \n",
       "3           3      0   8.142643   0.188563  -0.047802  -0.315394  -1.813394   \n",
       "4           4      2   5.054923  -0.284502  -1.646744  -0.279093   0.314746   \n",
       "\n",
       "   feature_6  feature_7  feature_8  ...  feature_21  feature_22  feature_23  \\\n",
       "0  -1.123050   1.127543  -0.915878  ...   -2.532471    1.218061    1.501915   \n",
       "1   0.714476   1.253506   0.607898  ...   -1.412795    1.893384    1.760497   \n",
       "2  -1.811686  -1.006391   0.531494  ...    4.604576    0.727504    0.788163   \n",
       "3   1.381458   0.677761   0.395829  ...   -3.260434    3.220630   -1.293879   \n",
       "4  -0.205413  -0.266329  -0.465928  ...    1.680388   -0.198763    0.492470   \n",
       "\n",
       "   feature_24  feature_25  feature_26  feature_27  feature_28  feature_29  \\\n",
       "0    1.462644   -0.366133   -0.666049    3.262910    1.936256   -0.968280   \n",
       "1    0.535397    0.299378    0.390798    1.286962    2.115100    1.815018   \n",
       "2    0.277626    1.602586   -0.573288    0.582831    0.746376   -2.561164   \n",
       "3    2.016155   -0.574672   -0.611484    5.060627    0.439937    4.916851   \n",
       "4    2.196284   -0.719854   -0.461862   -0.654043    3.561839    2.440038   \n",
       "\n",
       "   feature_30  \n",
       "0   -1.711473  \n",
       "1    1.938802  \n",
       "2    1.708863  \n",
       "3   -1.531910  \n",
       "4   -1.571913  \n",
       "\n",
       "[5 rows x 32 columns]"
      ]
     },
     "execution_count": 4,
     "metadata": {},
     "output_type": "execute_result"
    }
   ],
   "source": [
    "df.head()"
   ]
  },
  {
   "cell_type": "code",
   "execution_count": 5,
   "id": "f7a3351e",
   "metadata": {},
   "outputs": [],
   "source": [
    "df.drop('Unnamed: 0',axis = 1, inplace = True) # I immediately drop the redundant indexes"
   ]
  },
  {
   "cell_type": "code",
   "execution_count": 6,
   "id": "5fb7535a",
   "metadata": {
    "scrolled": true
   },
   "outputs": [],
   "source": [
    "# df.info()"
   ]
  },
  {
   "cell_type": "code",
   "execution_count": 7,
   "id": "5fbd062c",
   "metadata": {},
   "outputs": [],
   "source": [
    "# df.describe()"
   ]
  },
  {
   "cell_type": "markdown",
   "id": "9158a4c0",
   "metadata": {},
   "source": [
    "Some sample histograms follow, the data is already standardized aside from the scale, hence it seemed a bit visually heavy to show all 30 distributions."
   ]
  },
  {
   "cell_type": "code",
   "execution_count": 8,
   "id": "44b95fab",
   "metadata": {
    "scrolled": false
   },
   "outputs": [
    {
     "data": {
      "image/png": "[encoded data removed]",
      "text/plain": [
       "<Figure size 720x576 with 6 Axes>"
      ]
     },
     "metadata": {},
     "output_type": "display_data"
    }
   ],
   "source": [
    "sns.set_style('dark')\n",
    "df.iloc[:,1:7].hist(figsize = (10,8),color=\"#32B5C9\", ec=\"white\", grid=False, bins = 20)\n",
    "\n",
    "#uncomment this and comment previous lline to see all of the histograms\n",
    "# df.hist(figsize = (10,8),color=\"#32B5C9\", ec=\"white\", grid=False, bins = 20) \n",
    "\n",
    "plt.show()"
   ]
  },
  {
   "cell_type": "code",
   "execution_count": 9,
   "id": "07962564",
   "metadata": {
    "scrolled": false
   },
   "outputs": [
    {
     "data": {
      "image/png": "[encoded data removed]",
      "text/plain": [
       "<Figure size 720x720 with 2 Axes>"
      ]
     },
     "metadata": {},
     "output_type": "display_data"
    }
   ],
   "source": [
    "cm = df.corr()\n",
    "plt.figure(figsize = (10,10))\n",
    "mask = np.triu(np.ones_like(cm, dtype=bool))\n",
    "sns.heatmap(cm, mask=mask, cmap= 'GnBu', vmax=1, center=0,\n",
    "            square=True, linewidths=.5, cbar_kws={\"shrink\": .5})\n",
    "plt.title('Feature correlation matrix', fontsize = 15)\n",
    "plt.show()"
   ]
  },
  {
   "cell_type": "markdown",
   "id": "7c4fde63",
   "metadata": {},
   "source": [
    "### Conclusions from preliminary analysis:\n",
    "* No missing values\n",
    "* All numerical features, normally distributed. Not much cleaning to be done.\n",
    "* The scale of the features is heterogeneous --> this might affect performance --> standardize!\n",
    "* Some features are correlated, hence performing PCA on the dataset might help.\n",
    "* There is an unbalance in the number of samples from the three categories."
   ]
  },
  {
   "cell_type": "markdown",
   "id": "fd7923f0",
   "metadata": {},
   "source": [
    "## Train/Test Split"
   ]
  },
  {
   "cell_type": "code",
   "execution_count": 10,
   "id": "a7b2b897",
   "metadata": {},
   "outputs": [
    {
     "data": {
      "text/plain": [
       "0    0.495455\n",
       "1    0.297273\n",
       "2    0.207273\n",
       "Name: label, dtype: float64"
      ]
     },
     "execution_count": 10,
     "metadata": {},
     "output_type": "execute_result"
    }
   ],
   "source": [
    "df['label'].value_counts(normalize = True)"
   ]
  },
  {
   "cell_type": "markdown",
   "id": "36f3009a",
   "metadata": {},
   "source": [
    "### Problem:\n",
    "* Even though the imbalance isn't huge, the results are likely to be a bit biased towards the first category.\n",
    "\n",
    "### Solutions:\n",
    "* Using adjusted performance metrics for cross-validation (e.g. _weighted f1 score_)\n",
    "* Augmenting the data for the latter categories (Oversampling/Undersampling) (at the end of the notebook)\n",
    "\n"
   ]
  },
  {
   "cell_type": "markdown",
   "id": "d8ccf256",
   "metadata": {},
   "source": [
    "First, a stratified split wrt the labels helps in keeping the ratio of labels in the train and test set consistent"
   ]
  },
  {
   "cell_type": "code",
   "execution_count": 11,
   "id": "ef9a70f6",
   "metadata": {},
   "outputs": [],
   "source": [
    "from sklearn.model_selection import train_test_split\n",
    "\n",
    "\n",
    "strat_train_set, strat_test_set = train_test_split(df, test_size = 0.2, stratify = df['label'], random_state = 42)"
   ]
  },
  {
   "cell_type": "code",
   "execution_count": 12,
   "id": "c1c5f4da",
   "metadata": {},
   "outputs": [
    {
     "data": {
      "text/html": [
       "<div>\n",
       "<style scoped>\n",
       "    .dataframe tbody tr th:only-of-type {\n",
       "        vertical-align: middle;\n",
       "    }\n",
       "\n",
       "    .dataframe tbody tr th {\n",
       "        vertical-align: top;\n",
       "    }\n",
       "\n",
       "    .dataframe thead th {\n",
       "        text-align: right;\n",
       "    }\n",
       "</style>\n",
       "<table border=\"1\" class=\"dataframe\">\n",
       "  <thead>\n",
       "    <tr style=\"text-align: right;\">\n",
       "      <th></th>\n",
       "      <th>Overall</th>\n",
       "      <th>Overall (abs)</th>\n",
       "      <th>Test</th>\n",
       "      <th>Test(abs)</th>\n",
       "      <th>Train</th>\n",
       "      <th>Train (abs)</th>\n",
       "    </tr>\n",
       "  </thead>\n",
       "  <tbody>\n",
       "    <tr>\n",
       "      <th>0</th>\n",
       "      <td>0.495455</td>\n",
       "      <td>545</td>\n",
       "      <td>0.495455</td>\n",
       "      <td>109</td>\n",
       "      <td>0.495455</td>\n",
       "      <td>436</td>\n",
       "    </tr>\n",
       "    <tr>\n",
       "      <th>1</th>\n",
       "      <td>0.297273</td>\n",
       "      <td>327</td>\n",
       "      <td>0.295455</td>\n",
       "      <td>65</td>\n",
       "      <td>0.297727</td>\n",
       "      <td>262</td>\n",
       "    </tr>\n",
       "    <tr>\n",
       "      <th>2</th>\n",
       "      <td>0.207273</td>\n",
       "      <td>228</td>\n",
       "      <td>0.209091</td>\n",
       "      <td>46</td>\n",
       "      <td>0.206818</td>\n",
       "      <td>182</td>\n",
       "    </tr>\n",
       "  </tbody>\n",
       "</table>\n",
       "</div>"
      ],
      "text/plain": [
       "    Overall  Overall (abs)      Test  Test(abs)     Train  Train (abs)\n",
       "0  0.495455            545  0.495455        109  0.495455          436\n",
       "1  0.297273            327  0.295455         65  0.297727          262\n",
       "2  0.207273            228  0.209091         46  0.206818          182"
      ]
     },
     "execution_count": 12,
     "metadata": {},
     "output_type": "execute_result"
    }
   ],
   "source": [
    "pd.DataFrame({\n",
    "    'Overall': df['label'].value_counts(normalize = True),\n",
    "    'Overall (abs)': df['label'].value_counts(), \n",
    "    'Test': strat_test_set['label'].value_counts(normalize = True),\n",
    "    'Test(abs)': strat_test_set['label'].value_counts(), \n",
    "    'Train' : strat_train_set['label'].value_counts(normalize = True),\n",
    "    'Train (abs)' : strat_train_set['label'].value_counts()\n",
    "})"
   ]
  },
  {
   "cell_type": "code",
   "execution_count": 13,
   "id": "3848f5f6",
   "metadata": {},
   "outputs": [],
   "source": [
    "# this both removes labels from the features and assigns them to a new variable\n",
    "train_labels = strat_train_set.pop('label')\n",
    "test_labels = strat_test_set.pop('label')"
   ]
  },
  {
   "cell_type": "markdown",
   "id": "c5d4f731",
   "metadata": {},
   "source": [
    "# Preprocessing"
   ]
  },
  {
   "cell_type": "markdown",
   "id": "b870ae74",
   "metadata": {},
   "source": [
    "Based on the previous findings, the data is going to be standardized to have all features in the same scale, and PCA is going to be applied to get rid of correlation among features.\n",
    "\n",
    "During cross-validation performance with/without scaling and PCA will be compared."
   ]
  },
  {
   "cell_type": "code",
   "execution_count": 14,
   "id": "13eaf89f",
   "metadata": {},
   "outputs": [],
   "source": [
    "from sklearn.preprocessing import StandardScaler, MinMaxScaler\n",
    "\n",
    "scaler = StandardScaler()\n",
    "\n",
    "train_scaled = scaler.fit_transform(strat_train_set)"
   ]
  },
  {
   "cell_type": "markdown",
   "id": "e1f3c37b",
   "metadata": {},
   "source": [
    "## PCA"
   ]
  },
  {
   "cell_type": "code",
   "execution_count": 15,
   "id": "4387cc6f",
   "metadata": {},
   "outputs": [],
   "source": [
    "from sklearn.decomposition import PCA\n",
    "pca = PCA(n_components = 0.8)\n",
    "\n",
    "train_pca_base = pca.fit_transform(train_scaled)"
   ]
  },
  {
   "cell_type": "code",
   "execution_count": 16,
   "id": "81044ea2",
   "metadata": {},
   "outputs": [
    {
     "data": {
      "image/png": "[encoded data removed]",
      "text/plain": [
       "<Figure size 360x360 with 2 Axes>"
      ]
     },
     "metadata": {},
     "output_type": "display_data"
    }
   ],
   "source": [
    "cm_pca = pd.DataFrame(train_pca_base).corr()\n",
    "plt.figure(figsize = (5,5))\n",
    "mask = np.triu(np.ones_like(cm_pca, dtype=bool))\n",
    "sns.heatmap(cm_pca, mask=mask, cmap= 'GnBu', vmax=1, center=0,\n",
    "            square=True, linewidths=.5, cbar_kws={\"shrink\": .5})\n",
    "plt.title('Feature correlation matrix', fontsize = 15)\n",
    "plt.show()"
   ]
  },
  {
   "cell_type": "markdown",
   "id": "db4d8612",
   "metadata": {},
   "source": [
    "After standardization and PCA, the features are not correlated at all, and we can proceed with model selection. However, let's first pack both steps in a single pipeline."
   ]
  },
  {
   "cell_type": "code",
   "execution_count": 17,
   "id": "176ec9ff",
   "metadata": {},
   "outputs": [
    {
     "data": {
      "text/plain": [
       "Pipeline(steps=[('Scaler', StandardScaler()), ('pca', PCA())])"
      ]
     },
     "execution_count": 17,
     "metadata": {},
     "output_type": "execute_result"
    }
   ],
   "source": [
    "from sklearn.pipeline import Pipeline\n",
    "\n",
    "prep_pline = Pipeline([\n",
    "    ('Scaler', StandardScaler()),\n",
    "    ('pca', PCA())\n",
    "])\n",
    "\n",
    "prep_pline.fit(strat_train_set)"
   ]
  },
  {
   "cell_type": "markdown",
   "id": "13562bc5",
   "metadata": {},
   "source": [
    "## PCA Optimization"
   ]
  },
  {
   "cell_type": "markdown",
   "id": "bdddb873",
   "metadata": {},
   "source": [
    "We now want to fine-tune the PCA, in order to find out how much the number of components influences the performance of our classifier."
   ]
  },
  {
   "cell_type": "code",
   "execution_count": 18,
   "id": "7d0bd3ee",
   "metadata": {},
   "outputs": [],
   "source": [
    "from sklearn.metrics import cohen_kappa_score, classification_report, f1_score # these will be needed later\n",
    "from sklearn.metrics import balanced_accuracy_score, precision_score, recall_score\n",
    "\n",
    "def get_cum_var(exp_var): # takes single-feature explained variance and returns cumulative values\n",
    "    cum_var = exp_var.copy()\n",
    "    for i in range(len(exp_var)-1):\n",
    "        cum_var[i+1:] += exp_var[i]\n",
    "    return cum_var\n",
    "\n",
    "\n",
    "\n",
    "def optimize_pca(estimator, X, Y, params_list, scaled = False):\n",
    "    \n",
    "    scores = [] # initialize scores list\n",
    "    \n",
    "    if not scaled:\n",
    "        X = StandardScaler.fit_transform(X).copy() # prepare df for PCA\n",
    "        \n",
    "    for k in params_list:\n",
    "        \n",
    "        pca = PCA(n_components = k) # create pca instance, with k components\n",
    "        \n",
    "        X_pca = pca.fit_transform(X)\n",
    "        \n",
    "        estimator.fit(X_pca, Y)\n",
    "        preds = estimator.predict(X_pca)\n",
    "        \n",
    "        score = f1_score(Y, preds, average = 'weighted')\n",
    "        scores.append([k,score]) # record score and number of components used\n",
    "        \n",
    "        cum_var = get_cum_var(pca.explained_variance_ratio_)\n",
    "        \n",
    "    return scores,  cum_var #return the weighted f1 scores and the cumulative explained variance for each threshold\n",
    "        "
   ]
  },
  {
   "cell_type": "markdown",
   "id": "9e608695",
   "metadata": {},
   "source": [
    "We proceed by fitting two very simple classifiers to the training set, gradually increasing the number of components."
   ]
  },
  {
   "cell_type": "code",
   "execution_count": 19,
   "id": "a8529b3e",
   "metadata": {},
   "outputs": [],
   "source": [
    "from sklearn.linear_model import LogisticRegression\n",
    "from sklearn.svm import LinearSVC as LSVC\n",
    "\n",
    "basic_classifier_1 = LogisticRegression(multi_class = 'ovr')\n",
    "basic_classifier_2 = LSVC(dual = False) # from the doc: \"Prefer dual=False when n_samples > n_features.\"\n",
    "\n",
    "params_list = [i for i in range(1,31)]\n",
    "\n",
    "pca_scores_1, exp_var_1 = optimize_pca(basic_classifier_1, train_scaled, train_labels,params_list = params_list, scaled = True)\n",
    "pca_scores_2, exp_var_2 = optimize_pca(basic_classifier_2, train_scaled, train_labels,params_list = params_list, scaled = True)"
   ]
  },
  {
   "cell_type": "code",
   "execution_count": 20,
   "id": "853335b9",
   "metadata": {
    "scrolled": true
   },
   "outputs": [],
   "source": [
    "# pack all the scores in two dataframes\n",
    "scores_1_df = pd.DataFrame(pca_scores_1, columns = ['n components', 'weighted f1'])\n",
    "scores_1_df['explained variance'] = exp_var_1\n",
    "\n",
    "scores_2_df = pd.DataFrame(pca_scores_2, columns = ['n components', 'weighted f1'])\n",
    "scores_2_df['explained variance'] = exp_var_2\n",
    "\n",
    "\n",
    "# scores_1_df.T # uncomment this to visualize all the scores in a dataframe\n",
    "# scores_2_df.T"
   ]
  },
  {
   "cell_type": "code",
   "execution_count": 21,
   "id": "069c38e5",
   "metadata": {},
   "outputs": [
    {
     "data": {
      "image/png": "[encoded data removed]",
      "text/plain": [
       "<Figure size 720x432 with 1 Axes>"
      ]
     },
     "metadata": {},
     "output_type": "display_data"
    }
   ],
   "source": [
    "# plot f1 scores and explained variance\n",
    "sns.set_style('darkgrid')\n",
    "plt.figure(figsize = (10,6))\n",
    "plt.plot(scores_1_df['n components'], scores_1_df['weighted f1'],label = 'f1 log. reg')\n",
    "plt.plot(scores_1_df['n components'], scores_1_df['explained variance'], label = 'exp var')\n",
    "plt.plot(scores_2_df['n components'], scores_2_df['weighted f1'], label = 'f1 svc')\n",
    "plt.xlabel('num components', fontsize = 15)\n",
    "plt.axvline(27, linestyle = ':')\n",
    "plt.legend()\n",
    "\n",
    "plt.show()"
   ]
  },
  {
   "cell_type": "markdown",
   "id": "78009be3",
   "metadata": {},
   "source": [
    "It seems that in both cases the optimal numer of components in terms of f1-score is around 27, sufficient to explain 100% of the dataset variance. With 30 features dimensionality reduction doesn't seem that necessary, but in this case we keep all the explained variance and remove correlation for free."
   ]
  },
  {
   "cell_type": "code",
   "execution_count": 22,
   "id": "2b5e61a9",
   "metadata": {
    "scrolled": true
   },
   "outputs": [
    {
     "data": {
      "text/plain": [
       "Pipeline(steps=[('Scaler', StandardScaler()), ('pca', PCA(n_components=27))])"
      ]
     },
     "execution_count": 22,
     "metadata": {},
     "output_type": "execute_result"
    }
   ],
   "source": [
    "# prep_pline.get_params()\n",
    "prep_pline.set_params(**{'pca__n_components':27})"
   ]
  },
  {
   "cell_type": "code",
   "execution_count": 23,
   "id": "8b4b855f",
   "metadata": {},
   "outputs": [],
   "source": [
    "# train_pca = prep_pline.fit_transform(strat_train_set)"
   ]
  },
  {
   "cell_type": "markdown",
   "id": "79a7e458",
   "metadata": {},
   "source": [
    "### Visual Interpretation"
   ]
  },
  {
   "cell_type": "markdown",
   "id": "64fe2219",
   "metadata": {},
   "source": [
    "Let's try to see if, with a very small number of components, PCA reveals some visual pattern in the data."
   ]
  },
  {
   "cell_type": "code",
   "execution_count": 24,
   "id": "bec83c6d",
   "metadata": {},
   "outputs": [],
   "source": [
    "pca_small = PCA(n_components = 2)\n",
    "\n",
    "train_small = pca_small.fit_transform(train_scaled)"
   ]
  },
  {
   "cell_type": "code",
   "execution_count": 25,
   "id": "db50a52f",
   "metadata": {},
   "outputs": [],
   "source": [
    "df_small = pd.merge(train_labels, pd.DataFrame(train_small, index = strat_train_set.index, columns = ['pca feature 1', 'pca feature 2']), left_index = True, right_index = True)"
   ]
  },
  {
   "cell_type": "code",
   "execution_count": 26,
   "id": "8706a2b2",
   "metadata": {},
   "outputs": [
    {
     "data": {
      "image/png": "[encoded data removed]",
      "text/plain": [
       "<Figure size 401.625x360 with 6 Axes>"
      ]
     },
     "metadata": {},
     "output_type": "display_data"
    }
   ],
   "source": [
    "sns.set_style('darkgrid')\n",
    "sns.pairplot(df_small, palette = 'GnBu', hue = 'label')\n",
    "plt.show()"
   ]
  },
  {
   "cell_type": "markdown",
   "id": "a24d3e46",
   "metadata": {},
   "source": [
    "Unfortunately, it doesn't seem to be the case. There are some slightly defined clusters, especially for class 0, but nothing particularly striking.\n",
    "\n",
    "Let's keep more components and see how the classifiers perform."
   ]
  },
  {
   "cell_type": "markdown",
   "id": "03d20bad",
   "metadata": {},
   "source": [
    "# Logistic Regression"
   ]
  },
  {
   "cell_type": "markdown",
   "id": "034f1cd2",
   "metadata": {},
   "source": [
    "Let's implement a simple classifier based on Logistic Regression."
   ]
  },
  {
   "cell_type": "code",
   "execution_count": 27,
   "id": "a168bfbe",
   "metadata": {
    "scrolled": false
   },
   "outputs": [],
   "source": [
    "lrc = LogisticRegression(multi_class = 'ovr')\n",
    "\n",
    "logreg_pline = Pipeline([\n",
    "    ('prep', prep_pline),\n",
    "    ('estimator', lrc)\n",
    "])"
   ]
  },
  {
   "cell_type": "markdown",
   "id": "0df88051",
   "metadata": {},
   "source": [
    "During Hyperparameters tuning, different combinations will be tested in terms of preprocessing"
   ]
  },
  {
   "cell_type": "code",
   "execution_count": 28,
   "id": "a5fa539a",
   "metadata": {},
   "outputs": [],
   "source": [
    "from sklearn.model_selection import RandomizedSearchCV\n",
    "from sklearn.model_selection import GridSearchCV\n",
    "\n",
    "# this is the scoring method that will be used for cross-validation in the whole notebook, both \n",
    "# in gridsearch and during model comparison\n",
    "scoring_method = 'f1_weighted' \n",
    "\n",
    "params_grid = {\n",
    "    'prep__Scaler': ['passthrough', StandardScaler()],\n",
    "    'prep__pca': ['passthrough', PCA(n_components = 27)],\n",
    "    'estimator__C': [10**i for i in range(-5,5)],\n",
    "    'estimator__class_weight': [None, 'balanced']\n",
    "}\n",
    "\n",
    "\n",
    "grid_search_lr = GridSearchCV(logreg_pline, param_grid = params_grid, refit = True, scoring = scoring_method, cv = 5)"
   ]
  },
  {
   "cell_type": "code",
   "execution_count": 29,
   "id": "5e561ccf",
   "metadata": {
    "scrolled": true
   },
   "outputs": [
    {
     "name": "stdout",
     "output_type": "stream",
     "text": [
      "CPU times: total: 37 s\n",
      "Wall time: 9.35 s\n"
     ]
    },
    {
     "data": {
      "text/plain": [
       "{'estimator__C': 0.001,\n",
       " 'estimator__class_weight': 'balanced',\n",
       " 'prep__Scaler': 'passthrough',\n",
       " 'prep__pca': 'passthrough'}"
      ]
     },
     "execution_count": 29,
     "metadata": {},
     "output_type": "execute_result"
    }
   ],
   "source": [
    "%%time\n",
    "grid_search_lr.fit(strat_train_set, train_labels)\n",
    "\n",
    "grid_search_lr.best_params_"
   ]
  },
  {
   "cell_type": "markdown",
   "id": "edd0c3a0",
   "metadata": {},
   "source": [
    "## Performance Metrics"
   ]
  },
  {
   "cell_type": "code",
   "execution_count": 30,
   "id": "3dd283d1",
   "metadata": {
    "scrolled": true
   },
   "outputs": [
    {
     "name": "stdout",
     "output_type": "stream",
     "text": [
      "              precision    recall  f1-score   support\n",
      "\n",
      "           0       0.71      0.53      0.61       436\n",
      "           1       0.54      0.59      0.56       262\n",
      "           2       0.35      0.52      0.42       182\n",
      "\n",
      "    accuracy                           0.55       880\n",
      "   macro avg       0.53      0.55      0.53       880\n",
      "weighted avg       0.59      0.55      0.56       880\n",
      "\n"
     ]
    }
   ],
   "source": [
    "lr_preds = grid_search_lr.predict(strat_train_set)\n",
    "print(classification_report(train_labels, lr_preds))"
   ]
  },
  {
   "cell_type": "markdown",
   "id": "5b8fd19e",
   "metadata": {},
   "source": [
    "# Linear SVC"
   ]
  },
  {
   "cell_type": "markdown",
   "id": "7e5d5c31",
   "metadata": {},
   "source": [
    "Let's now implement a SVM classifier with a linear kernel.\n",
    "\n",
    "GridSearch with different levels of regularization, preprocessing techniques, number of iterations and class weights follows."
   ]
  },
  {
   "cell_type": "code",
   "execution_count": 31,
   "id": "90bf869b",
   "metadata": {},
   "outputs": [],
   "source": [
    "lin_svc = LSVC(dual = False) #from the doc: \"Prefer dual=False when n_samples > n_features.\"\n",
    "\n",
    "svc_pline = Pipeline([\n",
    "    ('prep', prep_pline),\n",
    "    ('estimator', lin_svc)\n",
    "])"
   ]
  },
  {
   "cell_type": "code",
   "execution_count": 32,
   "id": "dfb90fb7",
   "metadata": {},
   "outputs": [],
   "source": [
    "\n",
    "param_grid = {\n",
    "    'prep__Scaler': ['passthrough', StandardScaler()],\n",
    "    'prep__pca': ['passthrough', PCA(n_components = 27)],\n",
    "    'estimator__C': [0.001,0.01,0.1,1,10,100,1000],\n",
    "    'estimator__max_iter' : [1000,5000,10000],\n",
    "    'estimator__class_weight' : [None, 'balanced'],\n",
    "}\n",
    "\n",
    "grid_search_svc = GridSearchCV(svc_pline, cv = 5, param_grid = param_grid,refit = True, scoring = scoring_method, return_train_score = True)"
   ]
  },
  {
   "cell_type": "code",
   "execution_count": 33,
   "id": "ec013017",
   "metadata": {},
   "outputs": [
    {
     "name": "stdout",
     "output_type": "stream",
     "text": [
      "CPU times: total: 54.5 s\n",
      "Wall time: 14 s\n"
     ]
    },
    {
     "data": {
      "text/plain": [
       "{'estimator__C': 0.001,\n",
       " 'estimator__class_weight': None,\n",
       " 'estimator__max_iter': 1000,\n",
       " 'prep__Scaler': 'passthrough',\n",
       " 'prep__pca': PCA(n_components=27)}"
      ]
     },
     "execution_count": 33,
     "metadata": {},
     "output_type": "execute_result"
    }
   ],
   "source": [
    "%%time\n",
    "grid_search_svc.fit(strat_train_set, train_labels)\n",
    "grid_search_svc.best_params_"
   ]
  },
  {
   "cell_type": "code",
   "execution_count": 34,
   "id": "4f995149",
   "metadata": {},
   "outputs": [],
   "source": [
    "svc_preds = grid_search_svc.predict(strat_train_set)"
   ]
  },
  {
   "cell_type": "code",
   "execution_count": 35,
   "id": "d3948884",
   "metadata": {},
   "outputs": [
    {
     "name": "stdout",
     "output_type": "stream",
     "text": [
      "              precision    recall  f1-score   support\n",
      "\n",
      "           0       0.64      0.75      0.69       436\n",
      "           1       0.56      0.56      0.56       262\n",
      "           2       0.46      0.27      0.34       182\n",
      "\n",
      "    accuracy                           0.59       880\n",
      "   macro avg       0.55      0.53      0.53       880\n",
      "weighted avg       0.58      0.59      0.58       880\n",
      "\n"
     ]
    }
   ],
   "source": [
    "print(classification_report(train_labels, svc_preds))"
   ]
  },
  {
   "cell_type": "markdown",
   "id": "0220c127",
   "metadata": {},
   "source": [
    "# Comparison"
   ]
  },
  {
   "cell_type": "markdown",
   "id": "8f46c30c",
   "metadata": {},
   "source": [
    "Let's now compare the performance of the models through K-fold cross-validation"
   ]
  },
  {
   "cell_type": "code",
   "execution_count": 36,
   "id": "970e509a",
   "metadata": {
    "scrolled": true
   },
   "outputs": [],
   "source": [
    "from sklearn.model_selection import StratifiedKFold\n",
    "\n",
    "\n",
    "def compare_models(estimators, labels, X, y, cv):\n",
    "    \n",
    "    scores_df = pd.DataFrame(columns = ['model', 'metric', 'value']) #create df to host validation scores\n",
    "    \n",
    "    skf = StratifiedKFold(n_splits = cv) # create skf instance\n",
    "    splits = list(skf.split(X, y))\n",
    "\n",
    "    for i in range(cv):\n",
    "        X_train, X_val = X.iloc[splits[i][0]], X.iloc[splits[i][1]]  # train/validation split\n",
    "        y_train, y_val = y.iloc[splits[i][0]], y.iloc[splits[i][1]]\n",
    "    \n",
    "        for i in range(len(estimators)): # fit and evaluate both estimators on each split\n",
    "\n",
    "            est = estimators[i] \n",
    "            est.fit(X_train, y_train) # train model on k-1 folds\n",
    "            \n",
    "            preds = est.predict(X_val) #compute predictions \n",
    "\n",
    "            f1 = f1_score(y_val, preds, average = 'weighted') #compute performance metrics\n",
    "            acc = balanced_accuracy_score(y_val, preds)\n",
    "            prec = precision_score(y_val, preds, average = 'weighted')\n",
    "            rec = recall_score(y_val, preds, average = 'weighted')\n",
    "\n",
    "            metric_name = ['f1', 'accuracy', 'precision', 'recall'] # prepare to store scores\n",
    "            est_name = [labels[i] for _ in range(len(metric_name))]\n",
    "            score = [f1, acc, prec, rec]\n",
    "\n",
    "            scores = pd.DataFrame({ # pack scores together\n",
    "                'model': est_name,\n",
    "                'metric': metric_name,\n",
    "                'value' : score\n",
    "            })    \n",
    "\n",
    "            scores_df = pd.concat([scores_df, scores]) # add to scores df\n",
    "\n",
    "    return scores_df"
   ]
  },
  {
   "cell_type": "code",
   "execution_count": 37,
   "id": "cbb5b01f",
   "metadata": {},
   "outputs": [],
   "source": [
    "best_lr, best_svc = grid_search_lr.best_estimator_, grid_search_svc.best_estimator_\n",
    "models = [best_lr, best_svc]\n",
    "labels = ['Log. reg',  'Lin. SVC']\n",
    "\n",
    "test_scores = compare_models(models, labels, strat_test_set, test_labels, cv = 10)"
   ]
  },
  {
   "cell_type": "code",
   "execution_count": 38,
   "id": "c86b6cc4",
   "metadata": {
    "scrolled": false
   },
   "outputs": [
    {
     "data": {
      "image/png": "[encoded data removed]",
      "text/plain": [
       "<Figure size 720x432 with 1 Axes>"
      ]
     },
     "metadata": {},
     "output_type": "display_data"
    },
    {
     "data": {
      "image/png": "[encoded data removed]",
      "text/plain": [
       "<Figure size 720x432 with 1 Axes>"
      ]
     },
     "metadata": {},
     "output_type": "display_data"
    }
   ],
   "source": [
    "plt.figure(figsize = (10,6))\n",
    "plt.rc('font',size = 14)\n",
    "sns.set_style('darkgrid')\n",
    "sns.boxplot(data = test_scores, x = 'model', y = 'value', hue = 'metric',  palette = 'GnBu')\n",
    "plt.title('Cross-Validation scores')\n",
    "plt.legend(bbox_to_anchor=(1.04,1), loc=\"upper left\")\n",
    "plt.show()\n",
    "plt.figure(figsize = (10,6))\n",
    "sns.barplot(data = test_scores, x = 'model', y = 'value', hue = 'metric',  palette = 'GnBu')\n",
    "plt.legend(bbox_to_anchor=(1.04,1), loc=\"upper left\")\n",
    "plt.show()"
   ]
  },
  {
   "cell_type": "markdown",
   "id": "9af00482",
   "metadata": {},
   "source": [
    "# Findings"
   ]
  },
  {
   "cell_type": "markdown",
   "id": "d00ed111",
   "metadata": {},
   "source": [
    "Performance metrics show how, on average, Logistic Regression performs better. More precisely, it achieves a significantly higher precision score, meaning that we can \"trust\" its predictions to be True Positives more often.\n",
    "\n",
    "**Remark**:\n",
    "\n",
    "Given the multiclass setting, all metrics are averaged among every binary classification problem created by combinations of the labels."
   ]
  },
  {
   "cell_type": "markdown",
   "id": "5273f3d2",
   "metadata": {},
   "source": [
    "## Generalization Performance"
   ]
  },
  {
   "cell_type": "markdown",
   "id": "b031e45a",
   "metadata": {},
   "source": [
    "Since Logistic Regression seems more suited for this problem, we now evaluate its generalization performance through the test set."
   ]
  },
  {
   "cell_type": "code",
   "execution_count": 39,
   "id": "fc2e7339",
   "metadata": {},
   "outputs": [],
   "source": [
    "test_preds_lr = grid_search_lr.predict(strat_test_set)"
   ]
  },
  {
   "cell_type": "code",
   "execution_count": 78,
   "id": "6d7455b4",
   "metadata": {
    "scrolled": false
   },
   "outputs": [
    {
     "data": {
      "image/png": "[encoded data removed]",
      "text/plain": [
       "<Figure size 432x288 with 2 Axes>"
      ]
     },
     "metadata": {},
     "output_type": "display_data"
    }
   ],
   "source": [
    "from sklearn.metrics import confusion_matrix\n",
    "from sklearn.metrics import ConfusionMatrixDisplay\n",
    "\n",
    "sns.set_style('white')\n",
    "conf_m_lr = confusion_matrix(test_labels, test_preds_lr)\n",
    "disp_lr = ConfusionMatrixDisplay(conf_m_lr)\n",
    "disp_lr.plot()\n",
    "plt.title('Log. Reg. Confusion Matrix')\n",
    "plt.show()\n"
   ]
  },
  {
   "cell_type": "markdown",
   "id": "0d311391",
   "metadata": {},
   "source": [
    "Even the best classifier fails at consistently classifying under-represented classes. Therefore, augmenting the dataset might help us achieve a more balanced performance."
   ]
  },
  {
   "cell_type": "markdown",
   "id": "96cf802e",
   "metadata": {},
   "source": [
    "# Data Augmentation"
   ]
  },
  {
   "cell_type": "markdown",
   "id": "d123c60c",
   "metadata": {},
   "source": [
    "As an alternative approach to tackle class imbalance, one can try:\n",
    "* simulating a sampling process from the data distribution (Oversampling)\n",
    "* removing observations from the over-represented class (Undersampling)\n",
    "\n",
    "Since the dataset is pretty small, undersampling doesn't look like a great option. I will therefore only increase the two minor features' number of samples."
   ]
  },
  {
   "cell_type": "code",
   "execution_count": 41,
   "id": "b3eac343",
   "metadata": {},
   "outputs": [],
   "source": [
    "#uncomment and run this cell if imblearn isn't installed in your environment\n",
    "#!pip install imblearn"
   ]
  },
  {
   "cell_type": "markdown",
   "id": "d85391f2",
   "metadata": {},
   "source": [
    "Let's see how the performance changes using the augmented dataset.\n",
    "\n",
    "\n",
    "#### DIsclaimer:\n",
    "Unfortunately, sklearn doesn't support OverSampling methods as parts of a Pipeline, hence comparison between different techniques has to be done manually."
   ]
  },
  {
   "cell_type": "code",
   "execution_count": 42,
   "id": "03672798",
   "metadata": {},
   "outputs": [],
   "source": [
    "from imblearn.over_sampling import RandomOverSampler, SMOTE, BorderlineSMOTE, SVMSMOTE\n",
    "\n",
    "\n",
    "sampling = {\n",
    "    1 : 400, # the extent of oversampling has to be manually specified in multiclass settings\n",
    "    2 : 400\n",
    "}\n",
    "\n",
    "samplers = {\n",
    "    'SMOTE': SMOTE(sampling_strategy = sampling),\n",
    "    'Rand': RandomOverSampler(sampling_strategy = sampling),\n",
    "    'BSMOTE': BorderlineSMOTE(sampling_strategy = sampling),\n",
    "    'SVMSMOTE': SVMSMOTE(sampling_strategy = sampling)\n",
    "}\n",
    "\n",
    "\n",
    "def compare_sampling_methods(est, features, labels, methods):\n",
    "    for i in methods.keys():\n",
    "        \n",
    "        sampler = methods[i] #pick sampling method\n",
    "        train_aug, labels_aug  = sampler.fit_resample(features, labels) #resample features and labels\n",
    "        \n",
    "        est.fit(train_aug,labels_aug) # train model\n",
    "        preds = est.predict(features) # make predictions\n",
    "        \n",
    "        score = f1_score(labels, preds, average = 'weighted') #compute score\n",
    "        \n",
    "        print(f'{i}: {score}')\n"
   ]
  },
  {
   "cell_type": "code",
   "execution_count": 43,
   "id": "7f2774b4",
   "metadata": {},
   "outputs": [],
   "source": [
    "g_search_aug = GridSearchCV(logreg_pline, cv = 5, param_grid = param_grid,refit = True, scoring = 'f1_weighted', return_train_score = True)"
   ]
  },
  {
   "cell_type": "code",
   "execution_count": 44,
   "id": "fab75132",
   "metadata": {
    "scrolled": true
   },
   "outputs": [
    {
     "name": "stdout",
     "output_type": "stream",
     "text": [
      "F1 scores for different OverSampling techniques:\n",
      "SMOTE: 0.5548066302517349\n",
      "Rand: 0.5507343895538773\n",
      "BSMOTE: 0.5495959830096723\n",
      "SVMSMOTE: 0.5396339917353806\n",
      "CPU times: total: 7min 6s\n",
      "Wall time: 1min 47s\n"
     ]
    }
   ],
   "source": [
    "%%time\n",
    "# this cell may take a while to run\n",
    "print('F1 scores for different OverSampling techniques:')\n",
    "compare_sampling_methods(g_search_aug, strat_train_set, train_labels, samplers)"
   ]
  },
  {
   "cell_type": "markdown",
   "id": "875913c4",
   "metadata": {},
   "source": [
    "No specific method stands out. Let's evaluate the model performance with augmented data and see how it generalizes."
   ]
  },
  {
   "cell_type": "code",
   "execution_count": 116,
   "id": "219f29ce",
   "metadata": {},
   "outputs": [],
   "source": [
    "sampling = {\n",
    "    1 : 300, # the extent of oversampling has to be manually specified in multiclass settings\n",
    "    2 : 300\n",
    "}\n",
    "\n",
    "sampler = RandomOverSampler(sampling_strategy = sampling)\n",
    "\n",
    "train_aug, labels_aug = sampler.fit_resample(strat_train_set, train_labels)"
   ]
  },
  {
   "cell_type": "code",
   "execution_count": 117,
   "id": "d98fd0fb",
   "metadata": {},
   "outputs": [
    {
     "name": "stdout",
     "output_type": "stream",
     "text": [
      "CPU times: total: 1min 30s\n",
      "Wall time: 23 s\n"
     ]
    },
    {
     "data": {
      "text/plain": [
       "{'estimator__C': 0.001,\n",
       " 'estimator__class_weight': 'balanced',\n",
       " 'estimator__max_iter': 1000,\n",
       " 'prep__Scaler': 'passthrough',\n",
       " 'prep__pca': 'passthrough'}"
      ]
     },
     "execution_count": 117,
     "metadata": {},
     "output_type": "execute_result"
    }
   ],
   "source": [
    "%%time\n",
    "g_search_aug.fit(train_aug, labels_aug)\n",
    "g_search_aug.best_params_"
   ]
  },
  {
   "cell_type": "code",
   "execution_count": 119,
   "id": "bc14d30f",
   "metadata": {},
   "outputs": [
    {
     "name": "stdout",
     "output_type": "stream",
     "text": [
      "              precision    recall  f1-score   support\n",
      "\n",
      "           0       0.66      0.52      0.58       436\n",
      "           1       0.50      0.57      0.53       300\n",
      "           2       0.45      0.52      0.48       300\n",
      "\n",
      "    accuracy                           0.53      1036\n",
      "   macro avg       0.53      0.54      0.53      1036\n",
      "weighted avg       0.55      0.53      0.54      1036\n",
      "\n"
     ]
    }
   ],
   "source": [
    "print(classification_report(labels_aug, g_search_aug.predict(train_aug)))"
   ]
  },
  {
   "cell_type": "markdown",
   "id": "fdd23971",
   "metadata": {},
   "source": [
    "### Performance on test set"
   ]
  },
  {
   "cell_type": "code",
   "execution_count": 120,
   "id": "3bdafa91",
   "metadata": {},
   "outputs": [],
   "source": [
    "preds_aug_test = g_search_aug.predict(strat_test_set)"
   ]
  },
  {
   "cell_type": "code",
   "execution_count": 121,
   "id": "3d33a677",
   "metadata": {},
   "outputs": [
    {
     "name": "stdout",
     "output_type": "stream",
     "text": [
      "              precision    recall  f1-score   support\n",
      "\n",
      "           0       0.65      0.49      0.56       109\n",
      "           1       0.48      0.43      0.46        65\n",
      "           2       0.31      0.54      0.39        46\n",
      "\n",
      "    accuracy                           0.48       220\n",
      "   macro avg       0.48      0.49      0.47       220\n",
      "weighted avg       0.53      0.48      0.49       220\n",
      "\n"
     ]
    }
   ],
   "source": [
    "print(classification_report(test_labels, preds_aug_test))"
   ]
  },
  {
   "cell_type": "code",
   "execution_count": 122,
   "id": "018949fa",
   "metadata": {},
   "outputs": [
    {
     "data": {
      "image/png": "[encoded data removed]",
      "text/plain": [
       "<Figure size 432x288 with 2 Axes>"
      ]
     },
     "metadata": {},
     "output_type": "display_data"
    }
   ],
   "source": [
    "conf_m_aug = confusion_matrix(test_labels, preds_aug_test)\n",
    "sns.set_style('white')\n",
    "disp = ConfusionMatrixDisplay(conf_m_aug)\n",
    "disp.plot()\n",
    "plt.show()"
   ]
  },
  {
   "cell_type": "markdown",
   "id": "98e2e474",
   "metadata": {},
   "source": [
    "Augmenting the dataset doesn't really translate to an increase in generalization performance."
   ]
  },
  {
   "cell_type": "markdown",
   "id": "da7d83a5",
   "metadata": {},
   "source": [
    "# Conclusions"
   ]
  },
  {
   "cell_type": "markdown",
   "id": "f0a4fa01",
   "metadata": {},
   "source": [
    "For this dataset, Logistic regression seems the most suitable model to apply, with parameters specified in the cell below. \n",
    "\n",
    "However, even after tuning its parameters and augmenting the dataset, we are not really able to reach adequate performance, therefore some additional models will be tested in the following lines."
   ]
  },
  {
   "cell_type": "code",
   "execution_count": 51,
   "id": "b95faee6",
   "metadata": {},
   "outputs": [
    {
     "data": {
      "text/plain": [
       "Pipeline(steps=[('prep',\n",
       "                 Pipeline(steps=[('Scaler', 'passthrough'),\n",
       "                                 ('pca', 'passthrough')])),\n",
       "                ('estimator',\n",
       "                 LogisticRegression(C=0.001, class_weight='balanced',\n",
       "                                    max_iter=1000, multi_class='ovr'))])"
      ]
     },
     "execution_count": 51,
     "metadata": {},
     "output_type": "execute_result"
    }
   ],
   "source": [
    "g_search_aug.best_estimator_"
   ]
  },
  {
   "cell_type": "markdown",
   "id": "90a5f93f",
   "metadata": {},
   "source": [
    "# Extra: Additional Models"
   ]
  },
  {
   "cell_type": "markdown",
   "id": "513807e0",
   "metadata": {},
   "source": [
    "Below a performance comparison for some addtional classifiers:\n",
    "* Random Forest\n",
    "* SVM\n",
    "* KNN\n",
    "* Gradient Boosting\n",
    "* XGB\n"
   ]
  },
  {
   "cell_type": "code",
   "execution_count": 52,
   "id": "50971130",
   "metadata": {},
   "outputs": [],
   "source": [
    "# run this if xgboost is not installed in your environment\n",
    "# !pip install xgboost"
   ]
  },
  {
   "cell_type": "code",
   "execution_count": 53,
   "id": "a33fbe3b",
   "metadata": {},
   "outputs": [
    {
     "name": "stdout",
     "output_type": "stream",
     "text": [
      "SVM Classifier: 0.9138084112149532\n",
      "GB Classifier: 0.9757959765575511\n",
      "RandomForestClassifier: 1.0\n",
      "K-Nearest Neighbours Classsifier: 0.7225954194877674\n",
      "XGB Classifier: 1.0\n"
     ]
    }
   ],
   "source": [
    "from sklearn.svm import SVC\n",
    "from sklearn.ensemble import GradientBoostingClassifier\n",
    "from sklearn.ensemble import RandomForestClassifier\n",
    "from sklearn.neighbors import KNeighborsClassifier\n",
    "from xgboost import XGBClassifier\n",
    "\n",
    "models=dict()\n",
    "\n",
    "models[\"SVM Classifier\"] = SVC()\n",
    "models[\"GB Classifier\"] = GradientBoostingClassifier()\n",
    "models[\"RandomForestClassifier\"] = RandomForestClassifier()\n",
    "models[\"K-Nearest Neighbours Classsifier\"] = KNeighborsClassifier()\n",
    "models['XGB Classifier'] = XGBClassifier()\n",
    "\n",
    "\n",
    "train_set = prep_pline.fit_transform(strat_train_set)\n",
    "test_set = prep_pline.transform(strat_test_set)\n",
    "\n",
    "for est in models:\n",
    "    active_est = models[est].fit(train_set, train_labels)\n",
    "    preds = active_est.predict(train_set)\n",
    "    \n",
    "    print(f\"{est}: {f1_score(train_labels, preds, average = 'weighted')}\")"
   ]
  },
  {
   "cell_type": "markdown",
   "id": "891f5f0c",
   "metadata": {},
   "source": [
    "Without tuning, most models really overfit the data. I tried ensembling through a voting regressor to check their joint performance."
   ]
  },
  {
   "cell_type": "markdown",
   "id": "46fd7bd5",
   "metadata": {},
   "source": [
    "# Ensembling"
   ]
  },
  {
   "cell_type": "code",
   "execution_count": 54,
   "id": "61e217fc",
   "metadata": {},
   "outputs": [],
   "source": [
    "from sklearn.ensemble import VotingClassifier\n",
    "\n",
    "estimators = [\n",
    "    ('SVM Classifier', SVC(probability = True)),\n",
    "    (\"K-Nearest Neighbours Classifier\", KNeighborsClassifier()),\n",
    "    ('XGB Classifier', XGBClassifier())\n",
    "]\n",
    "\n",
    "\n",
    "voting_c = VotingClassifier(estimators, voting = 'soft') #soft voting weights predictions through the degree of uncertainty of each model"
   ]
  },
  {
   "cell_type": "code",
   "execution_count": 55,
   "id": "d1fbd136",
   "metadata": {},
   "outputs": [
    {
     "name": "stdout",
     "output_type": "stream",
     "text": [
      "\n"
     ]
    }
   ],
   "source": [
    "train_set_aug, train_labels_aug = SVMSMOTE().fit_resample(train_set, train_labels)\n",
    "voting_c.fit(train_set_aug, train_labels_aug)\n",
    "print()"
   ]
  },
  {
   "cell_type": "code",
   "execution_count": 56,
   "id": "ba1752db",
   "metadata": {},
   "outputs": [
    {
     "data": {
      "image/png": "[encoded data removed]",
      "text/plain": [
       "<Figure size 432x288 with 2 Axes>"
      ]
     },
     "metadata": {},
     "output_type": "display_data"
    }
   ],
   "source": [
    "conf_m = confusion_matrix(test_labels, voting_c.predict(test_set))\n",
    "\n",
    "sns.set_style('white')\n",
    "disp = ConfusionMatrixDisplay(conf_m)\n",
    "disp.plot()\n",
    "plt.show()"
   ]
  },
  {
   "cell_type": "markdown",
   "id": "0b2b1c07",
   "metadata": {},
   "source": [
    "Ensembling results in a significant improvement in performance.\n"
   ]
  },
  {
   "cell_type": "markdown",
   "id": "9684d1ec",
   "metadata": {},
   "source": [
    "# Experimenting with Neural Networks"
   ]
  },
  {
   "cell_type": "markdown",
   "id": "4554044b",
   "metadata": {},
   "source": [
    "<table align=\"left\">\n",
    "  <td>\n",
    "    <a href=\"https://colab.research.google.com/drive/1ohG5S4XwqS0w5IdjkkTDh4Zc4BQ35xbH#scrollTo=31bc1dea\" target=\"_parent\"><img src=\"https://colab.research.google.com/assets/colab-badge.svg\" alt=\"Open In Colab\"/></a>\n",
    "  </td>"
   ]
  },
  {
   "cell_type": "markdown",
   "id": "9d22b03c",
   "metadata": {},
   "source": [
    "* Since the last lectures of the course were focused on Neural Networks, I wanted to play around with them and see what performance I could obtain.\n",
    "\n",
    "* The size of the dataset and the kind of features aren't really the setting in which NNs stand out, so the following is more of an exercise to start using PyTorch.\n",
    "\n",
    "* Generally, it is recommended training neural networks on Google Colab, where GPU acceleration is available. However, the whole notebook should work properly on Jupyter Notebook as well.\n",
    "\n",
    "**Important**:\n",
    "\n",
    "* The following code is partly based on snippets found on Pytorch docs. \n",
    "* The Colab version features some minor adaptations for GPU compatibility.\n",
    "* I experimented manually with the network structure in order to see what worked best. I did not want to dive into convolutions since we are not dealing with visual patterns and I don't really know what my data represents."
   ]
  },
  {
   "cell_type": "code",
   "execution_count": 57,
   "id": "61186f87",
   "metadata": {},
   "outputs": [],
   "source": [
    "import torch\n",
    "import torch.utils.data\n",
    "import torch.nn as nn\n",
    "import torch.nn.functional as F\n",
    "import torch.optim as optim"
   ]
  },
  {
   "cell_type": "code",
   "execution_count": 58,
   "id": "b88aabc3",
   "metadata": {},
   "outputs": [],
   "source": [
    "# !conda install -c nvidia cuda   #run this if cuda isn't available in your env."
   ]
  },
  {
   "cell_type": "code",
   "execution_count": 59,
   "id": "f003d44b",
   "metadata": {},
   "outputs": [
    {
     "name": "stdout",
     "output_type": "stream",
     "text": [
      "running on CPU device\n"
     ]
    }
   ],
   "source": [
    "if torch.cuda.is_available():\n",
    "    print('running on GPU device')\n",
    "    device = torch.device('cuda') # work with gpu if available\n",
    "else:\n",
    "    print('running on CPU device')\n",
    "    device = torch.device('cpu') # work with cpu otherwise\n"
   ]
  },
  {
   "cell_type": "code",
   "execution_count": 72,
   "id": "19cda65c",
   "metadata": {},
   "outputs": [],
   "source": [
    "# loading data\n",
    "X_train_nn = torch.tensor(strat_train_set.values).float().to(device)\n",
    "X_test_nn = torch.tensor(strat_test_set.values).float().to(device)\n",
    "y_train_nn = torch.tensor(train_labels.values).to(device)\n",
    "y_test_nn = torch.tensor(test_labels.values).to(device)"
   ]
  },
  {
   "cell_type": "code",
   "execution_count": 73,
   "id": "834be143",
   "metadata": {},
   "outputs": [],
   "source": [
    "#defining network structure\n",
    "class Net(nn.Module):\n",
    "    def __init__(self):  \n",
    "        super(Net, self).__init__()\n",
    "        \n",
    "        self.linear1 = nn.Linear(30,20) # input layer\n",
    "        self.linear2 = nn.Linear(20,10) # hidden layer\n",
    "        self.linear_out = nn.Linear(10,3) # output layer\n",
    "        self.activation = nn.ReLU()\n",
    "        self.softmax = nn.Softmax(dim = 1)\n",
    "        \n",
    "    def forward(self, x):\n",
    "        x = self.activation(self.linear1(x))\n",
    "        x = self.activation(self.linear2(x))\n",
    "        x = self.softmax(self.li near_out(x)) #needed for multiclass\n",
    "        return x\n",
    "    \n",
    "\n",
    "nn_clf = Net()"
   ]
  },
  {
   "cell_type": "markdown",
   "id": "1be03525",
   "metadata": {},
   "source": [
    "The inevitable choice for a loss function was the Cross Entropy, optimized through SGD."
   ]
  },
  {
   "cell_type": "code",
   "execution_count": 74,
   "id": "9db0789a",
   "metadata": {},
   "outputs": [],
   "source": [
    "opt = optim.SGD(nn_clf.parameters(), lr = 10)\n",
    "loss_f = nn.CrossEntropyLoss()\n",
    "\n",
    "def train_model(model, X, y, optimizer, loss, n_iter, verbose = False):\n",
    "    \n",
    "    for epoch in range(n_iter):\n",
    "        optimizer.zero_grad() # reset gradient at the beginning\n",
    "\n",
    "        yhat = model(X) # compute predictions\n",
    "\n",
    "        loss = loss_f(yhat, y) # compute loss and gradient\n",
    "        loss.backward()\n",
    "\n",
    "        optimizer.step() # update weights\n",
    "        \n",
    "        if verbose and epoch % (n_iter/10) == 0: # report accuracy and loss at 10 epoch thresholds\n",
    "            pred = torch.argmax(yhat, dim = 1)\n",
    "            preds_check = pred.float() == y.float()\n",
    "            accuracy = preds_check.sum().item() / len(preds_check)\n",
    "            \n",
    "            print('Epoch {:4d}/{} Loss: {:.6f} Accuracy {:2.2f}%'.format(\n",
    "                epoch, n_iter, loss.item(), accuracy * 100,\n",
    "            ))\n"
   ]
  },
  {
   "cell_type": "code",
   "execution_count": 75,
   "id": "efbb55fe",
   "metadata": {
    "scrolled": true
   },
   "outputs": [
    {
     "name": "stdout",
     "output_type": "stream",
     "text": [
      "Epoch    0/1000 Loss: 1.121534 Accuracy 23.07%\n",
      "Epoch  100/1000 Loss: 0.692682 Accuracy 85.80%\n",
      "Epoch  200/1000 Loss: 0.626659 Accuracy 92.39%\n",
      "Epoch  300/1000 Loss: 0.624427 Accuracy 92.61%\n",
      "Epoch  400/1000 Loss: 0.594540 Accuracy 95.68%\n",
      "Epoch  500/1000 Loss: 0.587755 Accuracy 96.36%\n",
      "Epoch  600/1000 Loss: 0.587726 Accuracy 96.36%\n",
      "Epoch  700/1000 Loss: 0.587721 Accuracy 96.36%\n",
      "Epoch  800/1000 Loss: 0.587720 Accuracy 96.36%\n",
      "Epoch  900/1000 Loss: 0.587719 Accuracy 96.36%\n"
     ]
    }
   ],
   "source": [
    "train_model(nn_clf, X_train_nn, y_train_nn, opt, loss_f, n_iter = 1000, verbose = True)"
   ]
  },
  {
   "cell_type": "markdown",
   "id": "03699856",
   "metadata": {},
   "source": [
    "After training, the parameters are stored in the model instance. Generalization performance follows."
   ]
  },
  {
   "cell_type": "code",
   "execution_count": 76,
   "id": "ffedb0e2",
   "metadata": {
    "scrolled": true
   },
   "outputs": [
    {
     "name": "stdout",
     "output_type": "stream",
     "text": [
      "              precision    recall  f1-score   support\n",
      "\n",
      "           0       0.78      0.87      0.82       109\n",
      "           1       0.74      0.78      0.76        65\n",
      "           2       0.76      0.48      0.59        46\n",
      "\n",
      "    accuracy                           0.76       220\n",
      "   macro avg       0.76      0.71      0.72       220\n",
      "weighted avg       0.76      0.76      0.76       220\n",
      "\n"
     ]
    }
   ],
   "source": [
    "test_preds = torch.argmax(nn_clf(X_test_nn), dim = 1).numpy()\n",
    "\n",
    "print(classification_report(test_labels, test_preds))"
   ]
  },
  {
   "cell_type": "code",
   "execution_count": 77,
   "id": "44e55d51",
   "metadata": {},
   "outputs": [
    {
     "data": {
      "image/png": "[encoded data removed]",
      "text/plain": [
       "<Figure size 432x288 with 2 Axes>"
      ]
     },
     "metadata": {},
     "output_type": "display_data"
    }
   ],
   "source": [
    "conf_m_nn = confusion_matrix(test_labels, test_preds)\n",
    "\n",
    "disp = ConfusionMatrixDisplay(conf_m_nn)\n",
    "disp.plot()\n",
    "plt.title('NN Confusion Matrix')\n",
    "plt.show()"
   ]
  },
  {
   "cell_type": "markdown",
   "id": "80d8ea38",
   "metadata": {},
   "source": [
    "The results are outstanding!\n",
    "\n",
    "Our Neural Network Classifier achieves the best performance out of all tested estimators."
   ]
  }
 ],
 "metadata": {
  "kernelspec": {
   "display_name": "Python 3 (ipykernel)",
   "language": "python",
   "name": "python3"
  },
  "language_info": {
   "codemirror_mode": {
    "name": "ipython",
    "version": 3
   },
   "file_extension": ".py",
   "mimetype": "text/x-python",
   "name": "python",
   "nbconvert_exporter": "python",
   "pygments_lexer": "ipython3",
   "version": "3.8.13"
  }
 },
 "nbformat": 4,
 "nbformat_minor": 5
}
